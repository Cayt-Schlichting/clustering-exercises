{
 "cells": [
  {
   "cell_type": "markdown",
   "id": "eda6af7f",
   "metadata": {},
   "source": [
    "Notebook\n",
    "\n",
    "- Acquire data from the customers table in the mall_customers database.\n",
    "- Summarize the data (include distributions and descriptive statistics).\n",
    "- Detect outliers using IQR.\n",
    "- Split data into train, validate, and test.\n",
    "- Encode categorical columns using a one hot encoder (pd.get_dummies).\n",
    "- Handles missing values.\n",
    "- Scaling\n",
    "\n",
    "Encapsulate your work in a wrangle_mall.py python module."
   ]
  },
  {
   "cell_type": "code",
   "execution_count": 3,
   "id": "d3b8f613",
   "metadata": {},
   "outputs": [],
   "source": [
    "#basics\n",
    "import numpy as np\n",
    "import pandas as pd\n",
    "import os\n",
    "\n",
    "\n",
    "#viz\n",
    "import matplotlib.pyplot as plt\n",
    "\n",
    "#Data prep tools\n",
    "from sklearn.model_selection import train_test_split\n",
    "from itertools import filterfalse\n",
    "\n",
    "#env\n",
    "from env import host, username, password, get_db_url"
   ]
  },
  {
   "cell_type": "markdown",
   "id": "47341404",
   "metadata": {},
   "source": [
    "##### Acquire Data"
   ]
  },
  {
   "cell_type": "code",
   "execution_count": 4,
   "id": "cb3a5c61",
   "metadata": {},
   "outputs": [],
   "source": [
    "#sql query to use\n",
    "sql = \"\"\"\n",
    "SELECT * FROM customers;\n",
    "\"\"\""
   ]
  },
  {
   "cell_type": "code",
   "execution_count": 7,
   "id": "eceb1b54",
   "metadata": {},
   "outputs": [
    {
     "name": "stdout",
     "output_type": "stream",
     "text": [
      "<class 'pandas.core.frame.DataFrame'>\n",
      "RangeIndex: 200 entries, 0 to 199\n",
      "Data columns (total 5 columns):\n",
      " #   Column          Non-Null Count  Dtype \n",
      "---  ------          --------------  ----- \n",
      " 0   customer_id     200 non-null    int64 \n",
      " 1   gender          200 non-null    object\n",
      " 2   age             200 non-null    int64 \n",
      " 3   annual_income   200 non-null    int64 \n",
      " 4   spending_score  200 non-null    int64 \n",
      "dtypes: int64(4), object(1)\n",
      "memory usage: 7.9+ KB\n"
     ]
    }
   ],
   "source": [
    "#get data\n",
    "df = pd.read_sql(sql,get_db_url('mall_customers'))\n",
    "#general info\n",
    "df.info()"
   ]
  },
  {
   "cell_type": "code",
   "execution_count": 10,
   "id": "d719667f",
   "metadata": {},
   "outputs": [
    {
     "data": {
      "text/html": [
       "<div>\n",
       "<style scoped>\n",
       "    .dataframe tbody tr th:only-of-type {\n",
       "        vertical-align: middle;\n",
       "    }\n",
       "\n",
       "    .dataframe tbody tr th {\n",
       "        vertical-align: top;\n",
       "    }\n",
       "\n",
       "    .dataframe thead th {\n",
       "        text-align: right;\n",
       "    }\n",
       "</style>\n",
       "<table border=\"1\" class=\"dataframe\">\n",
       "  <thead>\n",
       "    <tr style=\"text-align: right;\">\n",
       "      <th></th>\n",
       "      <th>count</th>\n",
       "      <th>mean</th>\n",
       "      <th>std</th>\n",
       "      <th>min</th>\n",
       "      <th>25%</th>\n",
       "      <th>50%</th>\n",
       "      <th>75%</th>\n",
       "      <th>max</th>\n",
       "    </tr>\n",
       "  </thead>\n",
       "  <tbody>\n",
       "    <tr>\n",
       "      <th>customer_id</th>\n",
       "      <td>200.0</td>\n",
       "      <td>100.50</td>\n",
       "      <td>57.879185</td>\n",
       "      <td>1.0</td>\n",
       "      <td>50.75</td>\n",
       "      <td>100.5</td>\n",
       "      <td>150.25</td>\n",
       "      <td>200.0</td>\n",
       "    </tr>\n",
       "    <tr>\n",
       "      <th>age</th>\n",
       "      <td>200.0</td>\n",
       "      <td>38.85</td>\n",
       "      <td>13.969007</td>\n",
       "      <td>18.0</td>\n",
       "      <td>28.75</td>\n",
       "      <td>36.0</td>\n",
       "      <td>49.00</td>\n",
       "      <td>70.0</td>\n",
       "    </tr>\n",
       "    <tr>\n",
       "      <th>annual_income</th>\n",
       "      <td>200.0</td>\n",
       "      <td>60.56</td>\n",
       "      <td>26.264721</td>\n",
       "      <td>15.0</td>\n",
       "      <td>41.50</td>\n",
       "      <td>61.5</td>\n",
       "      <td>78.00</td>\n",
       "      <td>137.0</td>\n",
       "    </tr>\n",
       "    <tr>\n",
       "      <th>spending_score</th>\n",
       "      <td>200.0</td>\n",
       "      <td>50.20</td>\n",
       "      <td>25.823522</td>\n",
       "      <td>1.0</td>\n",
       "      <td>34.75</td>\n",
       "      <td>50.0</td>\n",
       "      <td>73.00</td>\n",
       "      <td>99.0</td>\n",
       "    </tr>\n",
       "  </tbody>\n",
       "</table>\n",
       "</div>"
      ],
      "text/plain": [
       "                count    mean        std   min    25%    50%     75%    max\n",
       "customer_id     200.0  100.50  57.879185   1.0  50.75  100.5  150.25  200.0\n",
       "age             200.0   38.85  13.969007  18.0  28.75   36.0   49.00   70.0\n",
       "annual_income   200.0   60.56  26.264721  15.0  41.50   61.5   78.00  137.0\n",
       "spending_score  200.0   50.20  25.823522   1.0  34.75   50.0   73.00   99.0"
      ]
     },
     "execution_count": 10,
     "metadata": {},
     "output_type": "execute_result"
    }
   ],
   "source": [
    "#describe\n",
    "df.describe().T"
   ]
  },
  {
   "cell_type": "markdown",
   "id": "6bf8dc4a",
   "metadata": {},
   "source": [
    "spending score: 1 - 99\n",
    "annual income: 15 to 137 >> seems like it may represent thousands"
   ]
  },
  {
   "cell_type": "markdown",
   "id": "ba226ecf",
   "metadata": {},
   "source": [
    "##### detect outliers using IQR\n",
    "\n",
    "Function options:\n",
    "- Take in whole dataframe\n",
    "- All for a column to ignore parameter\n",
    "  - EX: this has customer_id which is a PK.  May want to keep it, but needs to be ignored.\n",
    "- Columns to find IQR for:\n",
    "  - in case there are some \n",
    "- Want function to either:\n",
    "  - Return informational dataframe with upper and lower bounds per column (infoonly)\n",
    "  - Return a trimmed dataframe - and maybe another dataframe with what was done\n",
    "  - Return a dataframe with new columns that identify if a row is an outlier\n",
    "  \n",
    "  \n",
    "Better: Create a function that finds outliers and another that handles them"
   ]
  },
  {
   "cell_type": "markdown",
   "id": "cd60bbc6",
   "metadata": {},
   "source": [
    "# PICKUP HERE\n",
    "WORKING ON IQR OUTLIER FUNCTIONS.  NEED TO FIGURE OUT HOW TO FILTER OUT COLUMNS THAT ONLY CONTAIN ZEROS AND ONES.\n",
    "CONSIDER FILTERFALSE (probably won't work)\n",
    "CONSIDER LIST COMPREHENSION ( https://stackoverflow.com/questions/1207406/how-to-remove-items-from-a-list-while-iterating - not sure if index counts as list)"
   ]
  },
  {
   "cell_type": "code",
   "execution_count": 14,
   "id": "c89d9b45",
   "metadata": {},
   "outputs": [
    {
     "ename": "NameError",
     "evalue": "name 'is_list_like' is not defined",
     "output_type": "error",
     "traceback": [
      "\u001b[0;31m---------------------------------------------------------------------------\u001b[0m",
      "\u001b[0;31mNameError\u001b[0m                                 Traceback (most recent call last)",
      "\u001b[0;32m/var/folders/dn/dr6y15951wq03xbh2xr9khq40000gn/T/ipykernel_67463/2004870592.py\u001b[0m in \u001b[0;36m<module>\u001b[0;34m\u001b[0m\n\u001b[0;32m----> 1\u001b[0;31m \u001b[0mhelp\u001b[0m\u001b[0;34m(\u001b[0m\u001b[0mis_list_like\u001b[0m\u001b[0;34m)\u001b[0m\u001b[0;34m\u001b[0m\u001b[0;34m\u001b[0m\u001b[0m\n\u001b[0m",
      "\u001b[0;31mNameError\u001b[0m: name 'is_list_like' is not defined"
     ]
    }
   ],
   "source": [
    "def only_0_or_1(ser):\n",
    "    \"\"\"\n",
    "    Takes in a pandas series, returns True if it only contains zeros and ones.\n",
    "    \"\"\"\n",
    "    return ser.isin([0,1]).all()\n",
    "\n",
    "def get_iqr_outlier_bounds(df,include=None,exclude=None):\n",
    "    \"\"\"\n",
    "    Returns dataframe with list of columns and the upper and lower bounds using the IQR method:\n",
    "        LB = Q1 - 1.5 * IQR\n",
    "        UB = Q3 + 1.5 * IQR\n",
    "    If no columns passed to include or exclude, it defaults to finding outliers for all columns.\n",
    "    Function will ignore non-numeric columns and columns that contain only 0s and 1s.\n",
    "    \n",
    "    Returns: Pandas Dataframe \n",
    "    Parameters:\n",
    "           df: dataframe in which to find outliers\n",
    "      include: list of columns to find outliers for\n",
    "       excude: list of columns to NOT find outliers for.  Ignored if 'include'is set.   \n",
    "    \n",
    "    C88\n",
    "    \"\"\"\n",
    "    #if include and exclude are None\n",
    "    if not include and not exclude:\n",
    "        columns = df.columns #returns index - iterable\n",
    "    elif include in\n",
    "    \n",
    "    #check our columns are numeric\n",
    "    columns = df[columns].select_dtypes(include='numeric')\n",
    "    #check if only 0s and 1s\n",
    "    for c in columns:\n",
    "        #if series contains only zeros and ones\n",
    "        if df[c].isin([0,1]).all():\n",
    "            #\n",
    "\n",
    "            \n",
    "###IMPROVMENTS:\n",
    "# 1) Currently only takes a list for include/exclude. Handle either single string input that is column name or list\n",
    "# 2) if a numeric column only contains 0s and 1s, assume it to be boolean\n",
    "# 3) If number of unique values is < than a certain number: \n",
    "#.     This will help identify if a column is really a category. Ruminate on this more\n",
    "def handle_iqr_outliers(df,trim=False,include='all', exclude=None):\n",
    "    \"\"\"\n",
    "    Takes in a dataframe and either trims outliers or creates column identifying outliers. \n",
    "    \n",
    "    Outputs: None\n",
    "    Returns: Pandas Dataframe\n",
    "    Parameters:\n",
    "      include, exclude: list\n",
    "        \n",
    "        \n",
    "    \n",
    "    \n",
    "    \"\"\"\n",
    "    #must take in df, include/exclude, whether to trim outliers or create new columns\n",
    "    \n",
    "    #1 - get params\n",
    "    \n",
    "    #2 - get bound dataframe\n",
    "    bounds = get_iqr_outlier_bounds(df,include,exclude)\n",
    "    \n",
    "    #3 -\n",
    "    #If we want new column \n",
    "    if !trim:\n",
    "        \n",
    "    "
   ]
  }
 ],
 "metadata": {
  "kernelspec": {
   "display_name": "Python 3 (ipykernel)",
   "language": "python",
   "name": "python3"
  },
  "language_info": {
   "codemirror_mode": {
    "name": "ipython",
    "version": 3
   },
   "file_extension": ".py",
   "mimetype": "text/x-python",
   "name": "python",
   "nbconvert_exporter": "python",
   "pygments_lexer": "ipython3",
   "version": "3.9.7"
  }
 },
 "nbformat": 4,
 "nbformat_minor": 5
}
