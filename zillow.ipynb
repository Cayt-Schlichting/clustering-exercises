{
 "cells": [
  {
   "cell_type": "code",
   "execution_count": 1,
   "id": "67cba076",
   "metadata": {},
   "outputs": [],
   "source": [
    "import numpy as np\n",
    "import pandas as pd\n",
    "import os\n",
    "\n",
    "import matplotlib.pyplot as plt\n",
    "import seaborn as sns\n",
    "\n",
    "from sklearn.model_selection import train_test_split\n",
    "\n",
    "from env import host, username, password"
   ]
  },
  {
   "cell_type": "markdown",
   "id": "fe00c7dd",
   "metadata": {},
   "source": [
    "## Acquire and Summarize Data\n",
    "\n",
    "- Acquired data requirements:\n",
    "  - join all tables\n",
    "  - only properties with transaction in 2017\n",
    "  - ensure no duplicate property ids >> use latest transaction date\n",
    "  - properties must contain latitude and longitude"
   ]
  },
  {
   "cell_type": "code",
   "execution_count": 2,
   "id": "09cdf7c9",
   "metadata": {},
   "outputs": [],
   "source": [
    "#Function to create database url.  Requires local env.py with host, username and password. \n",
    "# No function help text provided as we don't want the user to access it and display their password on the screen\n",
    "def get_db_url(db_name,user=username,password=password,host=host):\n",
    "    url = f'mysql+pymysql://{user}:{password}@{host}/{db_name}'\n",
    "    return url\n",
    "\n",
    "#Function to get new data from Codeup server\n",
    "def getNewZillowData():\n",
    "    \"\"\"\n",
    "    Retrieves zillow dataset from Codeup DB and stores a local csv file\n",
    "    Returns: Pandas dataframe\n",
    "    \"\"\"\n",
    "    db_name= 'zillow'\n",
    "    filename='zillow.csv'\n",
    "    sql = \"\"\"\n",
    "    SELECT *\n",
    "    FROM properties_2017\n",
    "        JOIN predictions_2017 USING(parcelid)\n",
    "        LEFT JOIN airconditioningtype USING(airconditioningtypeid)\n",
    "        LEFT JOIN architecturalstyletype USING(architecturalstyletypeid)\n",
    "        LEFT JOIN buildingclasstype USING(buildingclasstypeid)\n",
    "        LEFT JOIN heatingorsystemtype USING (heatingorsystemtypeid)\n",
    "        LEFT JOIN propertylandusetype USING (propertylandusetypeid)\n",
    "        LEFT JOIN storytype USING (storytypeid)\n",
    "        LEFT JOIN typeconstructiontype USING (typeconstructiontypeid)\n",
    "    WHERE transactiondate LIKE '2017%%' \n",
    "        AND latitude IS NOT NULL\n",
    "        AND longitude IS NOT NULL;\n",
    "    \"\"\"\n",
    "    #Read SQL from file\n",
    "    df = pd.read_sql(sql,get_db_url(db_name))\n",
    "    #Drop ID columns\n",
    "    df.drop(columns=['id'],inplace=True)\n",
    "    #write to disk - writes index as col 0:\n",
    "    df.to_csv(filename)\n",
    "    return df\n",
    "\n",
    "#Function to get data from local file or Codeup server \n",
    "def getZillowData():\n",
    "    \"\"\"\n",
    "    Retrieves Zillow dataset from working directory or Codeup DB. Stores a local copy if one did not exist.\n",
    "    Returns: Pandas dataframe of zillow data\n",
    "    \"\"\"\n",
    "    #Set filename\n",
    "    filename = 'zillow.csv'\n",
    "\n",
    "    if os.path.isfile(filename): #check if file exists in WD\n",
    "        #grab data, set first column as index\n",
    "        return pd.read_csv(filename,index_col=[0])\n",
    "    else: #Get data from SQL db\n",
    "        df = getNewZillowData()\n",
    "    return df"
   ]
  },
  {
   "cell_type": "code",
   "execution_count": 3,
   "id": "0cd8d707",
   "metadata": {},
   "outputs": [],
   "source": [
    "df = getNewZillowData()"
   ]
  },
  {
   "cell_type": "code",
   "execution_count": 4,
   "id": "29785770",
   "metadata": {},
   "outputs": [
    {
     "data": {
      "text/plain": [
       "(77579, 67)"
      ]
     },
     "execution_count": 4,
     "metadata": {},
     "output_type": "execute_result"
    }
   ],
   "source": [
    "df.shape"
   ]
  },
  {
   "cell_type": "code",
   "execution_count": 5,
   "id": "fbbb05ba",
   "metadata": {},
   "outputs": [
    {
     "name": "stdout",
     "output_type": "stream",
     "text": [
      "<class 'pandas.core.frame.DataFrame'>\n",
      "RangeIndex: 77579 entries, 0 to 77578\n",
      "Data columns (total 67 columns):\n",
      " #   Column                        Non-Null Count  Dtype  \n",
      "---  ------                        --------------  -----  \n",
      " 0   typeconstructiontypeid        223 non-null    float64\n",
      " 1   storytypeid                   50 non-null     float64\n",
      " 2   propertylandusetypeid         77579 non-null  float64\n",
      " 3   heatingorsystemtypeid         49571 non-null  float64\n",
      " 4   buildingclasstypeid           15 non-null     float64\n",
      " 5   architecturalstyletypeid      207 non-null    float64\n",
      " 6   airconditioningtypeid         25007 non-null  float64\n",
      " 7   parcelid                      77579 non-null  int64  \n",
      " 8   basementsqft                  50 non-null     float64\n",
      " 9   bathroomcnt                   77579 non-null  float64\n",
      " 10  bedroomcnt                    77579 non-null  float64\n",
      " 11  buildingqualitytypeid         49809 non-null  float64\n",
      " 12  calculatedbathnbr             76963 non-null  float64\n",
      " 13  decktypeid                    614 non-null    float64\n",
      " 14  finishedfloor1squarefeet      6037 non-null   float64\n",
      " 15  calculatedfinishedsquarefeet  77378 non-null  float64\n",
      " 16  finishedsquarefeet12          73923 non-null  float64\n",
      " 17  finishedsquarefeet13          42 non-null     float64\n",
      " 18  finishedsquarefeet15          3027 non-null   float64\n",
      " 19  finishedsquarefeet50          6037 non-null   float64\n",
      " 20  finishedsquarefeet6           386 non-null    float64\n",
      " 21  fips                          77579 non-null  float64\n",
      " 22  fireplacecnt                  8289 non-null   float64\n",
      " 23  fullbathcnt                   76963 non-null  float64\n",
      " 24  garagecarcnt                  25520 non-null  float64\n",
      " 25  garagetotalsqft               25520 non-null  float64\n",
      " 26  hashottuborspa                1539 non-null   float64\n",
      " 27  latitude                      77579 non-null  float64\n",
      " 28  longitude                     77579 non-null  float64\n",
      " 29  lotsizesquarefeet             69321 non-null  float64\n",
      " 30  poolcnt                       16174 non-null  float64\n",
      " 31  poolsizesum                   869 non-null    float64\n",
      " 32  pooltypeid10                  465 non-null    float64\n",
      " 33  pooltypeid2                   1074 non-null   float64\n",
      " 34  pooltypeid7                   15079 non-null  float64\n",
      " 35  propertycountylandusecode     77579 non-null  object \n",
      " 36  propertyzoningdesc            50476 non-null  object \n",
      " 37  rawcensustractandblock        77579 non-null  float64\n",
      " 38  regionidcity                  76107 non-null  float64\n",
      " 39  regionidcounty                77579 non-null  float64\n",
      " 40  regionidneighborhood          30974 non-null  float64\n",
      " 41  regionidzip                   77529 non-null  float64\n",
      " 42  roomcnt                       77579 non-null  float64\n",
      " 43  threequarterbathnbr           10106 non-null  float64\n",
      " 44  unitcnt                       50703 non-null  float64\n",
      " 45  yardbuildingsqft17            2393 non-null   float64\n",
      " 46  yardbuildingsqft26            70 non-null     float64\n",
      " 47  yearbuilt                     77309 non-null  float64\n",
      " 48  numberofstories               17599 non-null  float64\n",
      " 49  fireplaceflag                 172 non-null    float64\n",
      " 50  structuretaxvaluedollarcnt    77464 non-null  float64\n",
      " 51  taxvaluedollarcnt             77578 non-null  float64\n",
      " 52  assessmentyear                77579 non-null  float64\n",
      " 53  landtaxvaluedollarcnt         77577 non-null  float64\n",
      " 54  taxamount                     77574 non-null  float64\n",
      " 55  taxdelinquencyflag            2900 non-null   object \n",
      " 56  taxdelinquencyyear            2900 non-null   float64\n",
      " 57  censustractandblock           77332 non-null  float64\n",
      " 58  logerror                      77579 non-null  float64\n",
      " 59  transactiondate               77579 non-null  object \n",
      " 60  airconditioningdesc           25007 non-null  object \n",
      " 61  architecturalstyledesc        207 non-null    object \n",
      " 62  buildingclassdesc             15 non-null     object \n",
      " 63  heatingorsystemdesc           49571 non-null  object \n",
      " 64  propertylandusedesc           77579 non-null  object \n",
      " 65  storydesc                     50 non-null     object \n",
      " 66  typeconstructiondesc          223 non-null    object \n",
      "dtypes: float64(55), int64(1), object(11)\n",
      "memory usage: 39.7+ MB\n"
     ]
    }
   ],
   "source": [
    "df.info()"
   ]
  },
  {
   "cell_type": "code",
   "execution_count": 6,
   "id": "525020b8",
   "metadata": {},
   "outputs": [
    {
     "data": {
      "text/html": [
       "<div>\n",
       "<style scoped>\n",
       "    .dataframe tbody tr th:only-of-type {\n",
       "        vertical-align: middle;\n",
       "    }\n",
       "\n",
       "    .dataframe tbody tr th {\n",
       "        vertical-align: top;\n",
       "    }\n",
       "\n",
       "    .dataframe thead th {\n",
       "        text-align: right;\n",
       "    }\n",
       "</style>\n",
       "<table border=\"1\" class=\"dataframe\">\n",
       "  <thead>\n",
       "    <tr style=\"text-align: right;\">\n",
       "      <th></th>\n",
       "      <th>typeconstructiontypeid</th>\n",
       "      <th>storytypeid</th>\n",
       "      <th>propertylandusetypeid</th>\n",
       "      <th>heatingorsystemtypeid</th>\n",
       "      <th>buildingclasstypeid</th>\n",
       "      <th>architecturalstyletypeid</th>\n",
       "      <th>airconditioningtypeid</th>\n",
       "      <th>parcelid</th>\n",
       "      <th>basementsqft</th>\n",
       "      <th>bathroomcnt</th>\n",
       "      <th>...</th>\n",
       "      <th>numberofstories</th>\n",
       "      <th>fireplaceflag</th>\n",
       "      <th>structuretaxvaluedollarcnt</th>\n",
       "      <th>taxvaluedollarcnt</th>\n",
       "      <th>assessmentyear</th>\n",
       "      <th>landtaxvaluedollarcnt</th>\n",
       "      <th>taxamount</th>\n",
       "      <th>taxdelinquencyyear</th>\n",
       "      <th>censustractandblock</th>\n",
       "      <th>logerror</th>\n",
       "    </tr>\n",
       "  </thead>\n",
       "  <tbody>\n",
       "    <tr>\n",
       "      <th>count</th>\n",
       "      <td>223.000000</td>\n",
       "      <td>50.0</td>\n",
       "      <td>77579.000000</td>\n",
       "      <td>49571.000000</td>\n",
       "      <td>15.000000</td>\n",
       "      <td>207.000000</td>\n",
       "      <td>25007.000000</td>\n",
       "      <td>7.757900e+04</td>\n",
       "      <td>50.000000</td>\n",
       "      <td>77579.000000</td>\n",
       "      <td>...</td>\n",
       "      <td>17599.000000</td>\n",
       "      <td>172.0</td>\n",
       "      <td>7.746400e+04</td>\n",
       "      <td>7.757800e+04</td>\n",
       "      <td>77579.0</td>\n",
       "      <td>7.757700e+04</td>\n",
       "      <td>77574.000000</td>\n",
       "      <td>2900.000000</td>\n",
       "      <td>7.733200e+04</td>\n",
       "      <td>77579.000000</td>\n",
       "    </tr>\n",
       "    <tr>\n",
       "      <th>mean</th>\n",
       "      <td>6.040359</td>\n",
       "      <td>7.0</td>\n",
       "      <td>261.824476</td>\n",
       "      <td>3.921749</td>\n",
       "      <td>3.933333</td>\n",
       "      <td>7.386473</td>\n",
       "      <td>1.812013</td>\n",
       "      <td>1.300828e+07</td>\n",
       "      <td>679.720000</td>\n",
       "      <td>2.298496</td>\n",
       "      <td>...</td>\n",
       "      <td>1.434286</td>\n",
       "      <td>1.0</td>\n",
       "      <td>1.892811e+05</td>\n",
       "      <td>4.901506e+05</td>\n",
       "      <td>2016.0</td>\n",
       "      <td>3.011515e+05</td>\n",
       "      <td>5995.961788</td>\n",
       "      <td>14.088276</td>\n",
       "      <td>6.049667e+13</td>\n",
       "      <td>0.016803</td>\n",
       "    </tr>\n",
       "    <tr>\n",
       "      <th>std</th>\n",
       "      <td>0.556035</td>\n",
       "      <td>0.0</td>\n",
       "      <td>5.141596</td>\n",
       "      <td>3.594780</td>\n",
       "      <td>0.258199</td>\n",
       "      <td>2.728030</td>\n",
       "      <td>2.965768</td>\n",
       "      <td>3.519399e+06</td>\n",
       "      <td>689.703546</td>\n",
       "      <td>0.996732</td>\n",
       "      <td>...</td>\n",
       "      <td>0.544515</td>\n",
       "      <td>0.0</td>\n",
       "      <td>2.304107e+05</td>\n",
       "      <td>6.537979e+05</td>\n",
       "      <td>0.0</td>\n",
       "      <td>4.927249e+05</td>\n",
       "      <td>7628.859728</td>\n",
       "      <td>2.181281</td>\n",
       "      <td>1.533339e+12</td>\n",
       "      <td>0.170738</td>\n",
       "    </tr>\n",
       "    <tr>\n",
       "      <th>min</th>\n",
       "      <td>4.000000</td>\n",
       "      <td>7.0</td>\n",
       "      <td>31.000000</td>\n",
       "      <td>1.000000</td>\n",
       "      <td>3.000000</td>\n",
       "      <td>2.000000</td>\n",
       "      <td>1.000000</td>\n",
       "      <td>1.071186e+07</td>\n",
       "      <td>38.000000</td>\n",
       "      <td>0.000000</td>\n",
       "      <td>...</td>\n",
       "      <td>1.000000</td>\n",
       "      <td>1.0</td>\n",
       "      <td>4.400000e+01</td>\n",
       "      <td>1.000000e+03</td>\n",
       "      <td>2016.0</td>\n",
       "      <td>1.610000e+02</td>\n",
       "      <td>19.920000</td>\n",
       "      <td>3.000000</td>\n",
       "      <td>6.037101e+13</td>\n",
       "      <td>-4.655420</td>\n",
       "    </tr>\n",
       "    <tr>\n",
       "      <th>25%</th>\n",
       "      <td>6.000000</td>\n",
       "      <td>7.0</td>\n",
       "      <td>261.000000</td>\n",
       "      <td>2.000000</td>\n",
       "      <td>4.000000</td>\n",
       "      <td>7.000000</td>\n",
       "      <td>1.000000</td>\n",
       "      <td>1.153820e+07</td>\n",
       "      <td>273.000000</td>\n",
       "      <td>2.000000</td>\n",
       "      <td>...</td>\n",
       "      <td>1.000000</td>\n",
       "      <td>1.0</td>\n",
       "      <td>8.417925e+04</td>\n",
       "      <td>2.068985e+05</td>\n",
       "      <td>2016.0</td>\n",
       "      <td>8.529300e+04</td>\n",
       "      <td>2712.630000</td>\n",
       "      <td>14.000000</td>\n",
       "      <td>6.037311e+13</td>\n",
       "      <td>-0.024309</td>\n",
       "    </tr>\n",
       "    <tr>\n",
       "      <th>50%</th>\n",
       "      <td>6.000000</td>\n",
       "      <td>7.0</td>\n",
       "      <td>261.000000</td>\n",
       "      <td>2.000000</td>\n",
       "      <td>4.000000</td>\n",
       "      <td>7.000000</td>\n",
       "      <td>1.000000</td>\n",
       "      <td>1.253054e+07</td>\n",
       "      <td>515.000000</td>\n",
       "      <td>2.000000</td>\n",
       "      <td>...</td>\n",
       "      <td>1.000000</td>\n",
       "      <td>1.0</td>\n",
       "      <td>1.364045e+05</td>\n",
       "      <td>3.588785e+05</td>\n",
       "      <td>2016.0</td>\n",
       "      <td>2.031880e+05</td>\n",
       "      <td>4448.265000</td>\n",
       "      <td>15.000000</td>\n",
       "      <td>6.037603e+13</td>\n",
       "      <td>0.006676</td>\n",
       "    </tr>\n",
       "    <tr>\n",
       "      <th>75%</th>\n",
       "      <td>6.000000</td>\n",
       "      <td>7.0</td>\n",
       "      <td>266.000000</td>\n",
       "      <td>7.000000</td>\n",
       "      <td>4.000000</td>\n",
       "      <td>7.000000</td>\n",
       "      <td>1.000000</td>\n",
       "      <td>1.421136e+07</td>\n",
       "      <td>796.500000</td>\n",
       "      <td>3.000000</td>\n",
       "      <td>...</td>\n",
       "      <td>2.000000</td>\n",
       "      <td>1.0</td>\n",
       "      <td>2.187340e+05</td>\n",
       "      <td>5.690000e+05</td>\n",
       "      <td>2016.0</td>\n",
       "      <td>3.667530e+05</td>\n",
       "      <td>6926.917500</td>\n",
       "      <td>15.000000</td>\n",
       "      <td>6.059042e+13</td>\n",
       "      <td>0.039291</td>\n",
       "    </tr>\n",
       "    <tr>\n",
       "      <th>max</th>\n",
       "      <td>13.000000</td>\n",
       "      <td>7.0</td>\n",
       "      <td>275.000000</td>\n",
       "      <td>24.000000</td>\n",
       "      <td>4.000000</td>\n",
       "      <td>21.000000</td>\n",
       "      <td>13.000000</td>\n",
       "      <td>1.676893e+08</td>\n",
       "      <td>3560.000000</td>\n",
       "      <td>18.000000</td>\n",
       "      <td>...</td>\n",
       "      <td>6.000000</td>\n",
       "      <td>1.0</td>\n",
       "      <td>1.142179e+07</td>\n",
       "      <td>4.906124e+07</td>\n",
       "      <td>2016.0</td>\n",
       "      <td>4.895220e+07</td>\n",
       "      <td>586639.300000</td>\n",
       "      <td>99.000000</td>\n",
       "      <td>4.830301e+14</td>\n",
       "      <td>5.262999</td>\n",
       "    </tr>\n",
       "  </tbody>\n",
       "</table>\n",
       "<p>8 rows × 56 columns</p>\n",
       "</div>"
      ],
      "text/plain": [
       "       typeconstructiontypeid  storytypeid  propertylandusetypeid  \\\n",
       "count              223.000000         50.0           77579.000000   \n",
       "mean                 6.040359          7.0             261.824476   \n",
       "std                  0.556035          0.0               5.141596   \n",
       "min                  4.000000          7.0              31.000000   \n",
       "25%                  6.000000          7.0             261.000000   \n",
       "50%                  6.000000          7.0             261.000000   \n",
       "75%                  6.000000          7.0             266.000000   \n",
       "max                 13.000000          7.0             275.000000   \n",
       "\n",
       "       heatingorsystemtypeid  buildingclasstypeid  architecturalstyletypeid  \\\n",
       "count           49571.000000            15.000000                207.000000   \n",
       "mean                3.921749             3.933333                  7.386473   \n",
       "std                 3.594780             0.258199                  2.728030   \n",
       "min                 1.000000             3.000000                  2.000000   \n",
       "25%                 2.000000             4.000000                  7.000000   \n",
       "50%                 2.000000             4.000000                  7.000000   \n",
       "75%                 7.000000             4.000000                  7.000000   \n",
       "max                24.000000             4.000000                 21.000000   \n",
       "\n",
       "       airconditioningtypeid      parcelid  basementsqft   bathroomcnt  ...  \\\n",
       "count           25007.000000  7.757900e+04     50.000000  77579.000000  ...   \n",
       "mean                1.812013  1.300828e+07    679.720000      2.298496  ...   \n",
       "std                 2.965768  3.519399e+06    689.703546      0.996732  ...   \n",
       "min                 1.000000  1.071186e+07     38.000000      0.000000  ...   \n",
       "25%                 1.000000  1.153820e+07    273.000000      2.000000  ...   \n",
       "50%                 1.000000  1.253054e+07    515.000000      2.000000  ...   \n",
       "75%                 1.000000  1.421136e+07    796.500000      3.000000  ...   \n",
       "max                13.000000  1.676893e+08   3560.000000     18.000000  ...   \n",
       "\n",
       "       numberofstories  fireplaceflag  structuretaxvaluedollarcnt  \\\n",
       "count     17599.000000          172.0                7.746400e+04   \n",
       "mean          1.434286            1.0                1.892811e+05   \n",
       "std           0.544515            0.0                2.304107e+05   \n",
       "min           1.000000            1.0                4.400000e+01   \n",
       "25%           1.000000            1.0                8.417925e+04   \n",
       "50%           1.000000            1.0                1.364045e+05   \n",
       "75%           2.000000            1.0                2.187340e+05   \n",
       "max           6.000000            1.0                1.142179e+07   \n",
       "\n",
       "       taxvaluedollarcnt  assessmentyear  landtaxvaluedollarcnt  \\\n",
       "count       7.757800e+04         77579.0           7.757700e+04   \n",
       "mean        4.901506e+05          2016.0           3.011515e+05   \n",
       "std         6.537979e+05             0.0           4.927249e+05   \n",
       "min         1.000000e+03          2016.0           1.610000e+02   \n",
       "25%         2.068985e+05          2016.0           8.529300e+04   \n",
       "50%         3.588785e+05          2016.0           2.031880e+05   \n",
       "75%         5.690000e+05          2016.0           3.667530e+05   \n",
       "max         4.906124e+07          2016.0           4.895220e+07   \n",
       "\n",
       "           taxamount  taxdelinquencyyear  censustractandblock      logerror  \n",
       "count   77574.000000         2900.000000         7.733200e+04  77579.000000  \n",
       "mean     5995.961788           14.088276         6.049667e+13      0.016803  \n",
       "std      7628.859728            2.181281         1.533339e+12      0.170738  \n",
       "min        19.920000            3.000000         6.037101e+13     -4.655420  \n",
       "25%      2712.630000           14.000000         6.037311e+13     -0.024309  \n",
       "50%      4448.265000           15.000000         6.037603e+13      0.006676  \n",
       "75%      6926.917500           15.000000         6.059042e+13      0.039291  \n",
       "max    586639.300000           99.000000         4.830301e+14      5.262999  \n",
       "\n",
       "[8 rows x 56 columns]"
      ]
     },
     "execution_count": 6,
     "metadata": {},
     "output_type": "execute_result"
    }
   ],
   "source": [
    "df.describe() "
   ]
  },
  {
   "cell_type": "code",
   "execution_count": 7,
   "id": "9c179551",
   "metadata": {},
   "outputs": [
    {
     "data": {
      "text/plain": [
       "parcelid                        77381\n",
       "logerror                        77030\n",
       "taxamount                       73825\n",
       "latitude                        64038\n",
       "longitude                       62461\n",
       "landtaxvaluedollarcnt           51600\n",
       "taxvaluedollarcnt               50949\n",
       "structuretaxvaluedollarcnt      50430\n",
       "rawcensustractandblock          39194\n",
       "censustractandblock             39006\n",
       "lotsizesquarefeet               18848\n",
       "calculatedfinishedsquarefeet     4972\n",
       "finishedsquarefeet12             4868\n",
       "propertyzoningdesc               1907\n",
       "finishedsquarefeet50             1807\n",
       "finishedfloor1squarefeet         1787\n",
       "finishedsquarefeet15             1724\n",
       "garagetotalsqft                   839\n",
       "yardbuildingsqft17                540\n",
       "regionidneighborhood              480\n",
       "regionidzip                       389\n",
       "finishedsquarefeet6               350\n",
       "transactiondate                   264\n",
       "poolsizesum                       262\n",
       "regionidcity                      175\n",
       "yearbuilt                         136\n",
       "propertycountylandusecode          75\n",
       "yardbuildingsqft26                 59\n",
       "basementsqft                       43\n",
       "bathroomcnt                        22\n",
       "dtype: int64"
      ]
     },
     "execution_count": 7,
     "metadata": {},
     "output_type": "execute_result"
    }
   ],
   "source": [
    "df.nunique().sort_values(ascending=False).head(30) #went back and dropped ID columns in getNewZillowData"
   ]
  },
  {
   "cell_type": "markdown",
   "id": "26f60a6b",
   "metadata": {},
   "source": [
    "##### Write a function that counts all the missing rows"
   ]
  },
  {
   "cell_type": "code",
   "execution_count": 8,
   "id": "bdeb6c68",
   "metadata": {},
   "outputs": [],
   "source": [
    "def count_nulls(df,by_column=True):\n",
    "    #intialize df\n",
    "    df_nulls = pd.DataFrame()\n",
    "    \n",
    "    if by_column:\n",
    "        #total rows\n",
    "        num_rows = df.shape[0]\n",
    "        #loop over each column\n",
    "        for c in df.columns:\n",
    "            #count # of nulls\n",
    "            null_cnt = df[c].isna().sum()\n",
    "            #calculate percent of nulls\n",
    "            null_perc = null_cnt/num_rows\n",
    "            #Populate DF\n",
    "            df_nulls.loc[c,'num_nulls'] = null_cnt\n",
    "            df_nulls.loc[c,'pct_nulls'] = null_perc\n",
    "    else: \n",
    "        #total cols\n",
    "        num_cols = df.shape[1]\n",
    "        #loop over each row\n",
    "        for i in df.index:\n",
    "            #count # of nulls\n",
    "            null_cnt = df.loc[i,:].isna().sum()\n",
    "            #calculate percent of nulls\n",
    "            null_perc = null_cnt/num_cols\n",
    "            #Populate DF\n",
    "            df_nulls.loc[i,'num_nulls'] = null_cnt\n",
    "            df_nulls.loc[i,'pct_nulls'] = null_perc\n",
    "    \n",
    "    return df_nulls"
   ]
  },
  {
   "cell_type": "code",
   "execution_count": 9,
   "id": "e39869fb",
   "metadata": {},
   "outputs": [
    {
     "data": {
      "text/html": [
       "<div>\n",
       "<style scoped>\n",
       "    .dataframe tbody tr th:only-of-type {\n",
       "        vertical-align: middle;\n",
       "    }\n",
       "\n",
       "    .dataframe tbody tr th {\n",
       "        vertical-align: top;\n",
       "    }\n",
       "\n",
       "    .dataframe thead th {\n",
       "        text-align: right;\n",
       "    }\n",
       "</style>\n",
       "<table border=\"1\" class=\"dataframe\">\n",
       "  <thead>\n",
       "    <tr style=\"text-align: right;\">\n",
       "      <th></th>\n",
       "      <th>num_nulls</th>\n",
       "      <th>pct_nulls</th>\n",
       "    </tr>\n",
       "  </thead>\n",
       "  <tbody>\n",
       "    <tr>\n",
       "      <th>buildingclassdesc</th>\n",
       "      <td>77564.0</td>\n",
       "      <td>0.999807</td>\n",
       "    </tr>\n",
       "    <tr>\n",
       "      <th>buildingclasstypeid</th>\n",
       "      <td>77564.0</td>\n",
       "      <td>0.999807</td>\n",
       "    </tr>\n",
       "    <tr>\n",
       "      <th>finishedsquarefeet13</th>\n",
       "      <td>77537.0</td>\n",
       "      <td>0.999459</td>\n",
       "    </tr>\n",
       "    <tr>\n",
       "      <th>storydesc</th>\n",
       "      <td>77529.0</td>\n",
       "      <td>0.999355</td>\n",
       "    </tr>\n",
       "    <tr>\n",
       "      <th>basementsqft</th>\n",
       "      <td>77529.0</td>\n",
       "      <td>0.999355</td>\n",
       "    </tr>\n",
       "    <tr>\n",
       "      <th>...</th>\n",
       "      <td>...</td>\n",
       "      <td>...</td>\n",
       "    </tr>\n",
       "    <tr>\n",
       "      <th>parcelid</th>\n",
       "      <td>0.0</td>\n",
       "      <td>0.000000</td>\n",
       "    </tr>\n",
       "    <tr>\n",
       "      <th>propertycountylandusecode</th>\n",
       "      <td>0.0</td>\n",
       "      <td>0.000000</td>\n",
       "    </tr>\n",
       "    <tr>\n",
       "      <th>bathroomcnt</th>\n",
       "      <td>0.0</td>\n",
       "      <td>0.000000</td>\n",
       "    </tr>\n",
       "    <tr>\n",
       "      <th>rawcensustractandblock</th>\n",
       "      <td>0.0</td>\n",
       "      <td>0.000000</td>\n",
       "    </tr>\n",
       "    <tr>\n",
       "      <th>regionidcounty</th>\n",
       "      <td>0.0</td>\n",
       "      <td>0.000000</td>\n",
       "    </tr>\n",
       "  </tbody>\n",
       "</table>\n",
       "<p>67 rows × 2 columns</p>\n",
       "</div>"
      ],
      "text/plain": [
       "                           num_nulls  pct_nulls\n",
       "buildingclassdesc            77564.0   0.999807\n",
       "buildingclasstypeid          77564.0   0.999807\n",
       "finishedsquarefeet13         77537.0   0.999459\n",
       "storydesc                    77529.0   0.999355\n",
       "basementsqft                 77529.0   0.999355\n",
       "...                              ...        ...\n",
       "parcelid                         0.0   0.000000\n",
       "propertycountylandusecode        0.0   0.000000\n",
       "bathroomcnt                      0.0   0.000000\n",
       "rawcensustractandblock           0.0   0.000000\n",
       "regionidcounty                   0.0   0.000000\n",
       "\n",
       "[67 rows x 2 columns]"
      ]
     },
     "execution_count": 9,
     "metadata": {},
     "output_type": "execute_result"
    }
   ],
   "source": [
    "count_nulls(df).sort_values(by='num_nulls',ascending=False)"
   ]
  },
  {
   "cell_type": "code",
   "execution_count": 10,
   "id": "dcb2d60b",
   "metadata": {},
   "outputs": [
    {
     "data": {
      "text/html": [
       "<div>\n",
       "<style scoped>\n",
       "    .dataframe tbody tr th:only-of-type {\n",
       "        vertical-align: middle;\n",
       "    }\n",
       "\n",
       "    .dataframe tbody tr th {\n",
       "        vertical-align: top;\n",
       "    }\n",
       "\n",
       "    .dataframe thead th {\n",
       "        text-align: right;\n",
       "    }\n",
       "</style>\n",
       "<table border=\"1\" class=\"dataframe\">\n",
       "  <thead>\n",
       "    <tr style=\"text-align: right;\">\n",
       "      <th></th>\n",
       "      <th>num_nulls</th>\n",
       "      <th>pct_nulls</th>\n",
       "    </tr>\n",
       "  </thead>\n",
       "  <tbody>\n",
       "    <tr>\n",
       "      <th>55652</th>\n",
       "      <td>48.0</td>\n",
       "      <td>0.716418</td>\n",
       "    </tr>\n",
       "    <tr>\n",
       "      <th>41670</th>\n",
       "      <td>48.0</td>\n",
       "      <td>0.716418</td>\n",
       "    </tr>\n",
       "    <tr>\n",
       "      <th>13457</th>\n",
       "      <td>48.0</td>\n",
       "      <td>0.716418</td>\n",
       "    </tr>\n",
       "    <tr>\n",
       "      <th>61287</th>\n",
       "      <td>47.0</td>\n",
       "      <td>0.701493</td>\n",
       "    </tr>\n",
       "    <tr>\n",
       "      <th>16644</th>\n",
       "      <td>47.0</td>\n",
       "      <td>0.701493</td>\n",
       "    </tr>\n",
       "  </tbody>\n",
       "</table>\n",
       "</div>"
      ],
      "text/plain": [
       "       num_nulls  pct_nulls\n",
       "55652       48.0   0.716418\n",
       "41670       48.0   0.716418\n",
       "13457       48.0   0.716418\n",
       "61287       47.0   0.701493\n",
       "16644       47.0   0.701493"
      ]
     },
     "execution_count": 10,
     "metadata": {},
     "output_type": "execute_result"
    }
   ],
   "source": [
    "#time intensive!\n",
    "count_nulls(df,by_column=False).sort_values(by='num_nulls',ascending=False).head(5)"
   ]
  },
  {
   "cell_type": "markdown",
   "id": "d639445e",
   "metadata": {},
   "source": [
    "## Prepare"
   ]
  },
  {
   "cell_type": "markdown",
   "id": "256fb0a3",
   "metadata": {},
   "source": [
    "##### Remove properties that are unlikely to be single unit properties\n",
    "\n",
    "Look at typeconstructiontypeid, lotsizesquarefeet, propertyzoningdesc, unitcnt, architecturalstyledesc, buildingclassdesc, propertylandusedesc"
   ]
  },
  {
   "cell_type": "code",
   "execution_count": 11,
   "id": "d5c6e32f",
   "metadata": {},
   "outputs": [
    {
     "data": {
      "text/plain": [
       "1.0      47413\n",
       "2.0       2031\n",
       "4.0        726\n",
       "3.0        529\n",
       "45.0         1\n",
       "42.0         1\n",
       "6.0          1\n",
       "237.0        1\n",
       "Name: unitcnt, dtype: int64"
      ]
     },
     "execution_count": 11,
     "metadata": {},
     "output_type": "execute_result"
    }
   ],
   "source": [
    "#unit count will likely take care of most of this\n",
    "df.unitcnt.value_counts() #drop anything with more than 1 unit"
   ]
  },
  {
   "cell_type": "code",
   "execution_count": 12,
   "id": "f1f6f1cc",
   "metadata": {},
   "outputs": [
    {
     "data": {
      "text/plain": [
       "Frame       220\n",
       "Masonry       1\n",
       "Metal         1\n",
       "Concrete      1\n",
       "Name: typeconstructiondesc, dtype: int64"
      ]
     },
     "execution_count": 12,
     "metadata": {},
     "output_type": "execute_result"
    }
   ],
   "source": [
    "df.typeconstructiondesc.value_counts() #ignore"
   ]
  },
  {
   "cell_type": "code",
   "execution_count": 13,
   "id": "58d61041",
   "metadata": {},
   "outputs": [
    {
     "data": {
      "text/plain": [
       "LAR1         6766\n",
       "LAR3         2450\n",
       "LARS         1394\n",
       "LBR1N        1225\n",
       "LARD1.5      1132\n",
       "             ... \n",
       "LCCM*           1\n",
       "BFA16000*       1\n",
       "LCPR*           1\n",
       "LYR2            1\n",
       "BFA15000*       1\n",
       "Name: propertyzoningdesc, Length: 1907, dtype: int64"
      ]
     },
     "execution_count": 13,
     "metadata": {},
     "output_type": "execute_result"
    }
   ],
   "source": [
    "df.propertyzoningdesc.value_counts() #would need to compare with their meaning in CA.  Ignore for now"
   ]
  },
  {
   "cell_type": "code",
   "execution_count": 14,
   "id": "c24b3b20",
   "metadata": {},
   "outputs": [
    {
     "data": {
      "text/plain": [
       "Contemporary     173\n",
       "Conventional      19\n",
       "Ranch/Rambler      7\n",
       "Bungalow           5\n",
       "Cape Cod           3\n",
       "Name: architecturalstyledesc, dtype: int64"
      ]
     },
     "execution_count": 14,
     "metadata": {},
     "output_type": "execute_result"
    }
   ],
   "source": [
    "df.architecturalstyledesc.value_counts() #ignore, not enough information and no obvious issues"
   ]
  },
  {
   "cell_type": "code",
   "execution_count": 15,
   "id": "05155cac",
   "metadata": {},
   "outputs": [
    {
     "data": {
      "text/plain": [
       "Buildings having wood or wood and steel frames                                                                                                                                                                                             14\n",
       "Buildings having exterior walls built of a non-combustible material such as brick, concrete, block or poured concrete. Interior partitions and roof structures are built of combustible materials. Floor may be concrete or wood frame.     1\n",
       "Name: buildingclassdesc, dtype: int64"
      ]
     },
     "execution_count": 15,
     "metadata": {},
     "output_type": "execute_result"
    }
   ],
   "source": [
    "df.buildingclassdesc.value_counts() #very little info, mostly nulls anyway - Ignore"
   ]
  },
  {
   "cell_type": "code",
   "execution_count": 16,
   "id": "9dd3ded4",
   "metadata": {},
   "outputs": [
    {
     "data": {
      "text/plain": [
       "Single Family Residential                     52441\n",
       "Condominium                                   19342\n",
       "Duplex (2 Units, Any Combination)              2021\n",
       "Planned Unit Development                       1947\n",
       "Quadruplex (4 Units, Any Combination)           729\n",
       "Triplex (3 Units, Any Combination)              539\n",
       "Cluster Home                                    335\n",
       "Mobile Home                                      74\n",
       "Manufactured, Modular, Prefabricated Homes       59\n",
       "Residential General                              42\n",
       "Cooperative                                      29\n",
       "Commercial/Office/Residential Mixed Used         15\n",
       "Townhouse                                         6\n",
       "Name: propertylandusedesc, dtype: int64"
      ]
     },
     "execution_count": 16,
     "metadata": {},
     "output_type": "execute_result"
    }
   ],
   "source": [
    "df.propertylandusedesc.value_counts()"
   ]
  },
  {
   "cell_type": "code",
   "execution_count": 17,
   "id": "cc646235",
   "metadata": {},
   "outputs": [
    {
     "data": {
      "text/plain": [
       "261.0    52441\n",
       "266.0    19342\n",
       "246.0     2021\n",
       "269.0     1947\n",
       "248.0      729\n",
       "247.0      539\n",
       "265.0      335\n",
       "263.0       74\n",
       "275.0       59\n",
       "260.0       42\n",
       "267.0       29\n",
       "31.0        15\n",
       "264.0        6\n",
       "Name: propertylandusetypeid, dtype: int64"
      ]
     },
     "execution_count": 17,
     "metadata": {},
     "output_type": "execute_result"
    }
   ],
   "source": [
    "df.propertylandusetypeid.value_counts()"
   ]
  },
  {
   "cell_type": "markdown",
   "id": "6adfa531",
   "metadata": {},
   "source": [
    "Per the [CA Builders website](https://cabuilderservices.com/planned-unit-development), PUDs can contain single family homes.  So it's possible new developments may not have the propertly land use type switched yet."
   ]
  },
  {
   "cell_type": "code",
   "execution_count": null,
   "id": "e3af6850",
   "metadata": {},
   "outputs": [],
   "source": [
    "#see if they are huge lots (big lots likely mean it's the entire development region, not individual units)\n",
    "df[df.propertylandusetypeid == 269].lotsizesquarefeet.hist()"
   ]
  },
  {
   "cell_type": "code",
   "execution_count": null,
   "id": "edfeb6bb",
   "metadata": {},
   "outputs": [],
   "source": [
    "#actually want to check against all possible values:\n",
    "pd.read_sql('SELECT * FROM propertylandusetype',get_db_url('zillow'))"
   ]
  },
  {
   "cell_type": "code",
   "execution_count": null,
   "id": "48c168fd",
   "metadata": {},
   "outputs": [],
   "source": [
    "#see if Duplexs are generally individual units or not\n",
    "df[df.propertylandusetypeid == 246].unitcnt.value_counts()"
   ]
  },
  {
   "cell_type": "markdown",
   "id": "097d32d7",
   "metadata": {},
   "source": [
    "Helpful resource for determining appropriate building type/zoning. [Zillow types of houses](https://www.zillow.com/resources/stay-informed/types-of-houses/)\n",
    "\n",
    "**Action:** Leave in:\n",
    "- Single Family (261)\n",
    "- PUD (269)\n",
    "- Mobile home (263)\n",
    "- Townhouse (264)\n",
    "- Condominium (266)\n",
    "- Manufactured, etc (275)\n",
    "- Residential general (260)\n",
    "- Rural residence (262)\n",
    "- Bungalow (273)\n",
    "- Zero Lot Line (274)\n",
    "- Inferred Single Family (279)\n",
    "- Patio Home (276)\n",
    " \n",
    "List to include: [261,269,263,264,266,275,260,262,273,274,279,276]\n",
    "\n",
    "**Note:** Leaving mobile homes as they could have individual parcels.  Leaving PUDs, as they seem appropriate to include (inappropriate ones may be removed with outliers based of lot size.)  Not including duplexes/triplex/etc, even though they can be sold as individual units, it would be hard to know if they were multiple or not (in particular, whether or not we can rely on unitcnt to be accurate).  Excluding for this analysis."
   ]
  },
  {
   "cell_type": "markdown",
   "id": "75b30c0e",
   "metadata": {},
   "source": [
    "##### Single unit filters:\n",
    "- Only keep rows w/ unit counts of 1\n",
    "- Only include these property land use type ids: [261,269,263,264,266,275,260,262,273,274,279,276] \n"
   ]
  },
  {
   "cell_type": "code",
   "execution_count": null,
   "id": "23e5967d",
   "metadata": {},
   "outputs": [],
   "source": [
    "df.shape"
   ]
  },
  {
   "cell_type": "code",
   "execution_count": null,
   "id": "4ee8e030",
   "metadata": {},
   "outputs": [],
   "source": [
    "#only keep rows with unit count of 1\n",
    "df = df[df.unitcnt == 1]\n",
    "#filter land use type\n",
    "df = df[df.propertylandusetypeid.isin([261,269,263,264,266,275,260,262,273,274,279,276])]"
   ]
  },
  {
   "cell_type": "code",
   "execution_count": null,
   "id": "53a25d10",
   "metadata": {},
   "outputs": [],
   "source": [
    "df.shape"
   ]
  },
  {
   "cell_type": "markdown",
   "id": "08b9f768",
   "metadata": {},
   "source": [
    "##### Create a function to drop rows or columns based on the percent of values missing"
   ]
  },
  {
   "cell_type": "code",
   "execution_count": null,
   "id": "070065b2",
   "metadata": {},
   "outputs": [],
   "source": [
    "def handle_missing_values(df, prop_req_col=.75, prop_req_row=.75):\n",
    "    \"\"\"\n",
    "    Checks the rows and columns for missing values.  Drops any rows or columns less than the specified percentage.\n",
    "    \n",
    "    Returnss: Dataframe\n",
    "    Parameters: \n",
    "                df: Dataframe to analyze\n",
    "      prop_req_col: Proportion (between 0 and 1) of values in column that must exist (non-null). Default: .75\n",
    "      prop_req_row: Proportion (between 0 and 1) of values in a row that must exist (non-null). Default: .75\n",
    "    \"\"\"\n",
    "    #Determine number of required non-nulls in columns (prop * num_rows)\n",
    "    col_thresh = int(round(prop_req_col*df.shape[0],0))\n",
    "    #drop columns w/o enough info\n",
    "    df.dropna(axis=1,thresh=col_thresh,inplace=True)\n",
    "    \n",
    "    #NOW DO ROWS - note, this on already trimmed df\n",
    "    #Determine number of required non-nulls in rows (prop * num_cols)\n",
    "    row_thresh = int(round(prop_req_row*df.shape[1],0))\n",
    "    #drop rows w/o enough info\n",
    "    df.dropna(axis=0,thresh=row_thresh,inplace=True)\n",
    "    \n",
    "    return df"
   ]
  },
  {
   "cell_type": "code",
   "execution_count": null,
   "id": "ad0f92ba",
   "metadata": {},
   "outputs": [],
   "source": [
    "handle_missing_values(df)\n",
    "df.shape"
   ]
  },
  {
   "cell_type": "markdown",
   "id": "2b175142",
   "metadata": {},
   "source": [
    "### Imputing notes\n",
    "- check out KNNImputer\n",
    "  - Looks like fiting imputer can use subset of columns\n",
    "  - Will take the mode, which means it won't work well for continuous columns. But, it may still be appropriate.  Finding the absolute closest neighbor and just using it's value.\n",
    "- when would KNN be more appropriate\n"
   ]
  },
  {
   "cell_type": "markdown",
   "id": "08eefdc3",
   "metadata": {},
   "source": [
    "### Cleaning Notes\n",
    "- Will want to drop ID columns"
   ]
  }
 ],
 "metadata": {
  "kernelspec": {
   "display_name": "Python 3 (ipykernel)",
   "language": "python",
   "name": "python3"
  },
  "language_info": {
   "codemirror_mode": {
    "name": "ipython",
    "version": 3
   },
   "file_extension": ".py",
   "mimetype": "text/x-python",
   "name": "python",
   "nbconvert_exporter": "python",
   "pygments_lexer": "ipython3",
   "version": "3.9.7"
  }
 },
 "nbformat": 4,
 "nbformat_minor": 5
}
